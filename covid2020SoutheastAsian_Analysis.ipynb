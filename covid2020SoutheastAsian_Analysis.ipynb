{
 "cells": [
  {
   "attachments": {},
   "cell_type": "markdown",
   "metadata": {},
   "source": [
    "# Covid-19 Circular Case Rate in Southeast Asian Countries in 2020\n",
    "\n",
    "by Gilbert Agus Trianto,"
   ]
  },
  {
   "attachments": {},
   "cell_type": "markdown",
   "metadata": {},
   "source": [
    "## Description\n",
    "\n",
    "### Objective\n",
    "\n",
    "How high was the spread of covid cases in this Southeast Asian Country during 2020 based on cases per case date.\n",
    "The cases of Covid-19 that you want to know include, starting from confirmed cases of Covid, deaths from Covid, the recovery rate from Covid, the number of Covid patients who are still actively experiencing Covid.\n",
    "\n",
    "### Problem Statement\n",
    "\n",
    "1. Covid-19 hit many countries in the world, inseparable from Southeast Asia which also experienced cases of covid-19 and even had a high death rate due to covid-19. In this analysis, analysts try to analyze countries in Southeast Asia in the 2020 period to obtain data that can be processed for further research.\n",
    "2. The analysis can be used as a lesson for other countries regarding cases of handling Covid-19 in the future. Learning from the high recovery rate or from the low number of Covid-19 cases that have occurred can be useful learning materials.\n",
    "3. Data:\n",
    "     - Covid confirmation is a numerical value that continues to increase based on each incident per day.\n",
    "     - Death due to covid is a numerical value that is continuously increasing based on each incident per day.\n",
    "     - Recovery from covid is a numerical value that continues to increase based on each incident per day.\n",
    "     - Covid patients who are active covid is a numeric value that changes according to the events per day.\n",
    "    \n",
    "    All of data is cumulative data in every country, and changes in every date per case.\n",
    "4. Results from the analysis is statistik data from every different case in every country."
   ]
  },
  {
   "attachments": {},
   "cell_type": "markdown",
   "metadata": {},
   "source": [
    "## Working Area"
   ]
  },
  {
   "attachments": {},
   "cell_type": "markdown",
   "metadata": {},
   "source": [
    "Dataset taken from google cloud 'Big Data Query' / SQL BigQuery with the topic covid-19 The data retrieved is processed using the query as follows:\n",
    "\n",
    "    SELECT * FROM `bigquery-public-data.covid19_jhu_csse_eu.summary` WHERE (country_region IN ('Indonesia','Malaysia', 'Philippines', 'Thailand', 'Vietnam', 'Burma', 'Singapore', 'Brunei', 'Laos', 'Cambodia', 'Timor-Leste')) AND (EXTRACT(YEAR FROM date) = 2020)\n",
    "\n",
    "\n",
    "This query displays covid-19 data in a list of countries in Southeast Asia in 2020."
   ]
  },
  {
   "cell_type": "code",
   "execution_count": 35,
   "metadata": {},
   "outputs": [],
   "source": [
    "# Import libraries used\n",
    "import pandas as pd\n",
    "import numpy as np\n",
    "import matplotlib.pyplot as plt"
   ]
  },
  {
   "cell_type": "code",
   "execution_count": 2,
   "metadata": {},
   "outputs": [],
   "source": [
    "# Displays the result data from SQL BigQuery and converts the 'date' data type to datetime \n",
    "# so that it can also be processed in a Time Series manner\n",
    "covidData = pd.read_csv('southEashAsian_covid2020.csv', parse_dates=[\"date\"])"
   ]
  },
  {
   "cell_type": "code",
   "execution_count": 3,
   "metadata": {},
   "outputs": [
    {
     "name": "stdout",
     "output_type": "stream",
     "text": [
      "<class 'pandas.core.frame.DataFrame'>\n",
      "RangeIndex: 3504 entries, 0 to 3503\n",
      "Data columns (total 13 columns):\n",
      " #   Column          Non-Null Count  Dtype         \n",
      "---  ------          --------------  -----         \n",
      " 0   province_state  0 non-null      float64       \n",
      " 1   country_region  3504 non-null   object        \n",
      " 2   date            3504 non-null   datetime64[ns]\n",
      " 3   latitude        3286 non-null   float64       \n",
      " 4   longitude       3286 non-null   float64       \n",
      " 5   location_geom   3286 non-null   object        \n",
      " 6   confirmed       3502 non-null   float64       \n",
      " 7   deaths          3460 non-null   float64       \n",
      " 8   recovered       3466 non-null   float64       \n",
      " 9   active          3128 non-null   float64       \n",
      " 10  fips            0 non-null      float64       \n",
      " 11  admin2          0 non-null      float64       \n",
      " 12  combined_key    3128 non-null   object        \n",
      "dtypes: datetime64[ns](1), float64(9), object(3)\n",
      "memory usage: 356.0+ KB\n"
     ]
    }
   ],
   "source": [
    "covidData.info()"
   ]
  },
  {
   "cell_type": "code",
   "execution_count": 4,
   "metadata": {},
   "outputs": [
    {
     "data": {
      "text/html": [
       "<div>\n",
       "<style scoped>\n",
       "    .dataframe tbody tr th:only-of-type {\n",
       "        vertical-align: middle;\n",
       "    }\n",
       "\n",
       "    .dataframe tbody tr th {\n",
       "        vertical-align: top;\n",
       "    }\n",
       "\n",
       "    .dataframe thead th {\n",
       "        text-align: right;\n",
       "    }\n",
       "</style>\n",
       "<table border=\"1\" class=\"dataframe\">\n",
       "  <thead>\n",
       "    <tr style=\"text-align: right;\">\n",
       "      <th></th>\n",
       "      <th>province_state</th>\n",
       "      <th>country_region</th>\n",
       "      <th>date</th>\n",
       "      <th>latitude</th>\n",
       "      <th>longitude</th>\n",
       "      <th>location_geom</th>\n",
       "      <th>confirmed</th>\n",
       "      <th>deaths</th>\n",
       "      <th>recovered</th>\n",
       "      <th>active</th>\n",
       "      <th>fips</th>\n",
       "      <th>admin2</th>\n",
       "      <th>combined_key</th>\n",
       "    </tr>\n",
       "  </thead>\n",
       "  <tbody>\n",
       "    <tr>\n",
       "      <th>0</th>\n",
       "      <td>NaN</td>\n",
       "      <td>Brunei</td>\n",
       "      <td>2020-05-15</td>\n",
       "      <td>4.53530</td>\n",
       "      <td>114.727700</td>\n",
       "      <td>POINT(114.7277 4.5353)</td>\n",
       "      <td>141.0</td>\n",
       "      <td>1.0</td>\n",
       "      <td>135.0</td>\n",
       "      <td>5.0</td>\n",
       "      <td>NaN</td>\n",
       "      <td>NaN</td>\n",
       "      <td>Brunei</td>\n",
       "    </tr>\n",
       "    <tr>\n",
       "      <th>1</th>\n",
       "      <td>NaN</td>\n",
       "      <td>Burma</td>\n",
       "      <td>2020-05-15</td>\n",
       "      <td>21.91620</td>\n",
       "      <td>95.956000</td>\n",
       "      <td>POINT(95.956 21.9162)</td>\n",
       "      <td>182.0</td>\n",
       "      <td>6.0</td>\n",
       "      <td>89.0</td>\n",
       "      <td>87.0</td>\n",
       "      <td>NaN</td>\n",
       "      <td>NaN</td>\n",
       "      <td>Burma</td>\n",
       "    </tr>\n",
       "    <tr>\n",
       "      <th>2</th>\n",
       "      <td>NaN</td>\n",
       "      <td>Cambodia</td>\n",
       "      <td>2020-05-15</td>\n",
       "      <td>11.55000</td>\n",
       "      <td>104.916700</td>\n",
       "      <td>POINT(104.9167 11.55)</td>\n",
       "      <td>122.0</td>\n",
       "      <td>0.0</td>\n",
       "      <td>122.0</td>\n",
       "      <td>0.0</td>\n",
       "      <td>NaN</td>\n",
       "      <td>NaN</td>\n",
       "      <td>Cambodia</td>\n",
       "    </tr>\n",
       "    <tr>\n",
       "      <th>3</th>\n",
       "      <td>NaN</td>\n",
       "      <td>Indonesia</td>\n",
       "      <td>2020-05-15</td>\n",
       "      <td>-0.78930</td>\n",
       "      <td>113.921300</td>\n",
       "      <td>POINT(113.9213 -0.7893)</td>\n",
       "      <td>16496.0</td>\n",
       "      <td>1076.0</td>\n",
       "      <td>3803.0</td>\n",
       "      <td>11617.0</td>\n",
       "      <td>NaN</td>\n",
       "      <td>NaN</td>\n",
       "      <td>Indonesia</td>\n",
       "    </tr>\n",
       "    <tr>\n",
       "      <th>4</th>\n",
       "      <td>NaN</td>\n",
       "      <td>Laos</td>\n",
       "      <td>2020-05-15</td>\n",
       "      <td>19.85627</td>\n",
       "      <td>102.495496</td>\n",
       "      <td>POINT(102.495496 19.85627)</td>\n",
       "      <td>19.0</td>\n",
       "      <td>0.0</td>\n",
       "      <td>14.0</td>\n",
       "      <td>5.0</td>\n",
       "      <td>NaN</td>\n",
       "      <td>NaN</td>\n",
       "      <td>Laos</td>\n",
       "    </tr>\n",
       "  </tbody>\n",
       "</table>\n",
       "</div>"
      ],
      "text/plain": [
       "   province_state country_region       date  latitude   longitude  \\\n",
       "0             NaN         Brunei 2020-05-15   4.53530  114.727700   \n",
       "1             NaN          Burma 2020-05-15  21.91620   95.956000   \n",
       "2             NaN       Cambodia 2020-05-15  11.55000  104.916700   \n",
       "3             NaN      Indonesia 2020-05-15  -0.78930  113.921300   \n",
       "4             NaN           Laos 2020-05-15  19.85627  102.495496   \n",
       "\n",
       "                location_geom  confirmed  deaths  recovered   active  fips  \\\n",
       "0      POINT(114.7277 4.5353)      141.0     1.0      135.0      5.0   NaN   \n",
       "1       POINT(95.956 21.9162)      182.0     6.0       89.0     87.0   NaN   \n",
       "2       POINT(104.9167 11.55)      122.0     0.0      122.0      0.0   NaN   \n",
       "3     POINT(113.9213 -0.7893)    16496.0  1076.0     3803.0  11617.0   NaN   \n",
       "4  POINT(102.495496 19.85627)       19.0     0.0       14.0      5.0   NaN   \n",
       "\n",
       "   admin2 combined_key  \n",
       "0     NaN       Brunei  \n",
       "1     NaN        Burma  \n",
       "2     NaN     Cambodia  \n",
       "3     NaN    Indonesia  \n",
       "4     NaN         Laos  "
      ]
     },
     "execution_count": 4,
     "metadata": {},
     "output_type": "execute_result"
    }
   ],
   "source": [
    "covidData.head()"
   ]
  },
  {
   "cell_type": "code",
   "execution_count": 5,
   "metadata": {},
   "outputs": [
    {
     "data": {
      "text/html": [
       "<div>\n",
       "<style scoped>\n",
       "    .dataframe tbody tr th:only-of-type {\n",
       "        vertical-align: middle;\n",
       "    }\n",
       "\n",
       "    .dataframe tbody tr th {\n",
       "        vertical-align: top;\n",
       "    }\n",
       "\n",
       "    .dataframe thead th {\n",
       "        text-align: right;\n",
       "    }\n",
       "</style>\n",
       "<table border=\"1\" class=\"dataframe\">\n",
       "  <thead>\n",
       "    <tr style=\"text-align: right;\">\n",
       "      <th></th>\n",
       "      <th>province_state</th>\n",
       "      <th>country_region</th>\n",
       "      <th>date</th>\n",
       "      <th>latitude</th>\n",
       "      <th>longitude</th>\n",
       "      <th>location_geom</th>\n",
       "      <th>confirmed</th>\n",
       "      <th>deaths</th>\n",
       "      <th>recovered</th>\n",
       "      <th>active</th>\n",
       "      <th>fips</th>\n",
       "      <th>admin2</th>\n",
       "      <th>combined_key</th>\n",
       "    </tr>\n",
       "  </thead>\n",
       "  <tbody>\n",
       "    <tr>\n",
       "      <th>3499</th>\n",
       "      <td>NaN</td>\n",
       "      <td>Philippines</td>\n",
       "      <td>2020-06-08</td>\n",
       "      <td>12.879721</td>\n",
       "      <td>121.774017</td>\n",
       "      <td>POINT(121.774017 12.879721)</td>\n",
       "      <td>22474.0</td>\n",
       "      <td>1011.0</td>\n",
       "      <td>4637.0</td>\n",
       "      <td>16826.0</td>\n",
       "      <td>NaN</td>\n",
       "      <td>NaN</td>\n",
       "      <td>Philippines</td>\n",
       "    </tr>\n",
       "    <tr>\n",
       "      <th>3500</th>\n",
       "      <td>NaN</td>\n",
       "      <td>Singapore</td>\n",
       "      <td>2020-06-08</td>\n",
       "      <td>1.283300</td>\n",
       "      <td>103.833300</td>\n",
       "      <td>POINT(103.8333 1.2833)</td>\n",
       "      <td>38296.0</td>\n",
       "      <td>25.0</td>\n",
       "      <td>25368.0</td>\n",
       "      <td>12903.0</td>\n",
       "      <td>NaN</td>\n",
       "      <td>NaN</td>\n",
       "      <td>Singapore</td>\n",
       "    </tr>\n",
       "    <tr>\n",
       "      <th>3501</th>\n",
       "      <td>NaN</td>\n",
       "      <td>Thailand</td>\n",
       "      <td>2020-06-08</td>\n",
       "      <td>15.870032</td>\n",
       "      <td>100.992541</td>\n",
       "      <td>POINT(100.992541 15.870032)</td>\n",
       "      <td>3119.0</td>\n",
       "      <td>58.0</td>\n",
       "      <td>2973.0</td>\n",
       "      <td>88.0</td>\n",
       "      <td>NaN</td>\n",
       "      <td>NaN</td>\n",
       "      <td>Thailand</td>\n",
       "    </tr>\n",
       "    <tr>\n",
       "      <th>3502</th>\n",
       "      <td>NaN</td>\n",
       "      <td>Timor-Leste</td>\n",
       "      <td>2020-06-08</td>\n",
       "      <td>-8.874217</td>\n",
       "      <td>125.727539</td>\n",
       "      <td>POINT(125.727539 -8.874217)</td>\n",
       "      <td>24.0</td>\n",
       "      <td>0.0</td>\n",
       "      <td>24.0</td>\n",
       "      <td>0.0</td>\n",
       "      <td>NaN</td>\n",
       "      <td>NaN</td>\n",
       "      <td>Timor-Leste</td>\n",
       "    </tr>\n",
       "    <tr>\n",
       "      <th>3503</th>\n",
       "      <td>NaN</td>\n",
       "      <td>Vietnam</td>\n",
       "      <td>2020-06-08</td>\n",
       "      <td>14.058324</td>\n",
       "      <td>108.277199</td>\n",
       "      <td>POINT(108.277199 14.058324)</td>\n",
       "      <td>332.0</td>\n",
       "      <td>0.0</td>\n",
       "      <td>316.0</td>\n",
       "      <td>16.0</td>\n",
       "      <td>NaN</td>\n",
       "      <td>NaN</td>\n",
       "      <td>Vietnam</td>\n",
       "    </tr>\n",
       "  </tbody>\n",
       "</table>\n",
       "</div>"
      ],
      "text/plain": [
       "      province_state country_region       date   latitude   longitude  \\\n",
       "3499             NaN    Philippines 2020-06-08  12.879721  121.774017   \n",
       "3500             NaN      Singapore 2020-06-08   1.283300  103.833300   \n",
       "3501             NaN       Thailand 2020-06-08  15.870032  100.992541   \n",
       "3502             NaN    Timor-Leste 2020-06-08  -8.874217  125.727539   \n",
       "3503             NaN        Vietnam 2020-06-08  14.058324  108.277199   \n",
       "\n",
       "                    location_geom  confirmed  deaths  recovered   active  \\\n",
       "3499  POINT(121.774017 12.879721)    22474.0  1011.0     4637.0  16826.0   \n",
       "3500       POINT(103.8333 1.2833)    38296.0    25.0    25368.0  12903.0   \n",
       "3501  POINT(100.992541 15.870032)     3119.0    58.0     2973.0     88.0   \n",
       "3502  POINT(125.727539 -8.874217)       24.0     0.0       24.0      0.0   \n",
       "3503  POINT(108.277199 14.058324)      332.0     0.0      316.0     16.0   \n",
       "\n",
       "      fips  admin2 combined_key  \n",
       "3499   NaN     NaN  Philippines  \n",
       "3500   NaN     NaN    Singapore  \n",
       "3501   NaN     NaN     Thailand  \n",
       "3502   NaN     NaN  Timor-Leste  \n",
       "3503   NaN     NaN      Vietnam  "
      ]
     },
     "execution_count": 5,
     "metadata": {},
     "output_type": "execute_result"
    }
   ],
   "source": [
    "covidData.tail()"
   ]
  },
  {
   "cell_type": "code",
   "execution_count": 6,
   "metadata": {},
   "outputs": [
    {
     "data": {
      "text/plain": [
       "3504"
      ]
     },
     "execution_count": 6,
     "metadata": {},
     "output_type": "execute_result"
    }
   ],
   "source": [
    "# Counts how much data is in the DataFrame\n",
    "len(covidData)"
   ]
  },
  {
   "attachments": {},
   "cell_type": "markdown",
   "metadata": {},
   "source": [
    "Sort dataframes based on date per event to make it easier to get the latest and oldest data values."
   ]
  },
  {
   "cell_type": "code",
   "execution_count": 7,
   "metadata": {},
   "outputs": [],
   "source": [
    "#Sort data base on date\n",
    "covidData.sort_values('date', inplace=True)"
   ]
  },
  {
   "cell_type": "code",
   "execution_count": 8,
   "metadata": {},
   "outputs": [],
   "source": [
    "# Remove empty and unnecessary columns\n",
    "covidData.drop(columns=['province_state','fips','admin2'], inplace=True)"
   ]
  },
  {
   "cell_type": "code",
   "execution_count": 9,
   "metadata": {},
   "outputs": [
    {
     "data": {
      "text/plain": [
       "array(['Thailand', 'Malaysia', 'Philippines', 'Singapore', 'Vietnam',\n",
       "       'Cambodia', 'Indonesia', 'Brunei', 'Timor-Leste', 'Laos', 'Burma'],\n",
       "      dtype=object)"
      ]
     },
     "execution_count": 9,
     "metadata": {},
     "output_type": "execute_result"
    }
   ],
   "source": [
    "# See country list in dataframe\n",
    "covidData['country_region'].unique()"
   ]
  },
  {
   "attachments": {},
   "cell_type": "markdown",
   "metadata": {},
   "source": [
    "#### Cleaning Dataset"
   ]
  },
  {
   "cell_type": "code",
   "execution_count": 10,
   "metadata": {},
   "outputs": [
    {
     "data": {
      "text/plain": [
       "country_region      0\n",
       "date                0\n",
       "latitude          218\n",
       "longitude         218\n",
       "location_geom     218\n",
       "confirmed           2\n",
       "deaths             44\n",
       "recovered          38\n",
       "active            376\n",
       "combined_key      376\n",
       "dtype: int64"
      ]
     },
     "execution_count": 10,
     "metadata": {},
     "output_type": "execute_result"
    }
   ],
   "source": [
    "# Check null data\n",
    "covidData.isnull().sum()"
   ]
  },
  {
   "cell_type": "code",
   "execution_count": 11,
   "metadata": {},
   "outputs": [
    {
     "data": {
      "text/plain": [
       "0"
      ]
     },
     "execution_count": 11,
     "metadata": {},
     "output_type": "execute_result"
    }
   ],
   "source": [
    "# Check duplicated data\n",
    "covidData.duplicated().sum()"
   ]
  },
  {
   "cell_type": "code",
   "execution_count": 12,
   "metadata": {},
   "outputs": [],
   "source": [
    "#Drop data yang duplicate\n",
    "covidData.drop_duplicates(inplace=True)"
   ]
  },
  {
   "cell_type": "code",
   "execution_count": 13,
   "metadata": {},
   "outputs": [],
   "source": [
    "# Create new dataframe and choses necessary column \n",
    "# and sorting by 'date' \n",
    "SEACovidData = covidData[['country_region','confirmed','deaths','recovered','active','date']]"
   ]
  },
  {
   "cell_type": "code",
   "execution_count": 14,
   "metadata": {},
   "outputs": [
    {
     "data": {
      "text/html": [
       "<div>\n",
       "<style scoped>\n",
       "    .dataframe tbody tr th:only-of-type {\n",
       "        vertical-align: middle;\n",
       "    }\n",
       "\n",
       "    .dataframe tbody tr th {\n",
       "        vertical-align: top;\n",
       "    }\n",
       "\n",
       "    .dataframe thead th {\n",
       "        text-align: right;\n",
       "    }\n",
       "</style>\n",
       "<table border=\"1\" class=\"dataframe\">\n",
       "  <thead>\n",
       "    <tr style=\"text-align: right;\">\n",
       "      <th></th>\n",
       "      <th>country_region</th>\n",
       "      <th>confirmed</th>\n",
       "      <th>deaths</th>\n",
       "      <th>recovered</th>\n",
       "      <th>active</th>\n",
       "      <th>date</th>\n",
       "    </tr>\n",
       "  </thead>\n",
       "  <tbody>\n",
       "    <tr>\n",
       "      <th>704</th>\n",
       "      <td>Thailand</td>\n",
       "      <td>2.0</td>\n",
       "      <td>NaN</td>\n",
       "      <td>NaN</td>\n",
       "      <td>NaN</td>\n",
       "      <td>2020-01-22</td>\n",
       "    </tr>\n",
       "    <tr>\n",
       "      <th>3457</th>\n",
       "      <td>Malaysia</td>\n",
       "      <td>NaN</td>\n",
       "      <td>NaN</td>\n",
       "      <td>NaN</td>\n",
       "      <td>NaN</td>\n",
       "      <td>2020-01-23</td>\n",
       "    </tr>\n",
       "    <tr>\n",
       "      <th>3456</th>\n",
       "      <td>Philippines</td>\n",
       "      <td>NaN</td>\n",
       "      <td>NaN</td>\n",
       "      <td>NaN</td>\n",
       "      <td>NaN</td>\n",
       "      <td>2020-01-23</td>\n",
       "    </tr>\n",
       "    <tr>\n",
       "      <th>3455</th>\n",
       "      <td>Singapore</td>\n",
       "      <td>1.0</td>\n",
       "      <td>NaN</td>\n",
       "      <td>NaN</td>\n",
       "      <td>NaN</td>\n",
       "      <td>2020-01-23</td>\n",
       "    </tr>\n",
       "    <tr>\n",
       "      <th>3454</th>\n",
       "      <td>Thailand</td>\n",
       "      <td>3.0</td>\n",
       "      <td>NaN</td>\n",
       "      <td>NaN</td>\n",
       "      <td>NaN</td>\n",
       "      <td>2020-01-23</td>\n",
       "    </tr>\n",
       "    <tr>\n",
       "      <th>...</th>\n",
       "      <td>...</td>\n",
       "      <td>...</td>\n",
       "      <td>...</td>\n",
       "      <td>...</td>\n",
       "      <td>...</td>\n",
       "      <td>...</td>\n",
       "    </tr>\n",
       "    <tr>\n",
       "      <th>1623</th>\n",
       "      <td>Indonesia</td>\n",
       "      <td>743198.0</td>\n",
       "      <td>22138.0</td>\n",
       "      <td>611097.0</td>\n",
       "      <td>109963.0</td>\n",
       "      <td>2020-12-31</td>\n",
       "    </tr>\n",
       "    <tr>\n",
       "      <th>1622</th>\n",
       "      <td>Cambodia</td>\n",
       "      <td>378.0</td>\n",
       "      <td>0.0</td>\n",
       "      <td>362.0</td>\n",
       "      <td>16.0</td>\n",
       "      <td>2020-12-31</td>\n",
       "    </tr>\n",
       "    <tr>\n",
       "      <th>1621</th>\n",
       "      <td>Burma</td>\n",
       "      <td>124630.0</td>\n",
       "      <td>2682.0</td>\n",
       "      <td>107069.0</td>\n",
       "      <td>14879.0</td>\n",
       "      <td>2020-12-31</td>\n",
       "    </tr>\n",
       "    <tr>\n",
       "      <th>1629</th>\n",
       "      <td>Timor-Leste</td>\n",
       "      <td>44.0</td>\n",
       "      <td>0.0</td>\n",
       "      <td>32.0</td>\n",
       "      <td>12.0</td>\n",
       "      <td>2020-12-31</td>\n",
       "    </tr>\n",
       "    <tr>\n",
       "      <th>1620</th>\n",
       "      <td>Brunei</td>\n",
       "      <td>157.0</td>\n",
       "      <td>3.0</td>\n",
       "      <td>149.0</td>\n",
       "      <td>5.0</td>\n",
       "      <td>2020-12-31</td>\n",
       "    </tr>\n",
       "  </tbody>\n",
       "</table>\n",
       "<p>3504 rows × 6 columns</p>\n",
       "</div>"
      ],
      "text/plain": [
       "     country_region  confirmed   deaths  recovered    active       date\n",
       "704        Thailand        2.0      NaN        NaN       NaN 2020-01-22\n",
       "3457       Malaysia        NaN      NaN        NaN       NaN 2020-01-23\n",
       "3456    Philippines        NaN      NaN        NaN       NaN 2020-01-23\n",
       "3455      Singapore        1.0      NaN        NaN       NaN 2020-01-23\n",
       "3454       Thailand        3.0      NaN        NaN       NaN 2020-01-23\n",
       "...             ...        ...      ...        ...       ...        ...\n",
       "1623      Indonesia   743198.0  22138.0   611097.0  109963.0 2020-12-31\n",
       "1622       Cambodia      378.0      0.0      362.0      16.0 2020-12-31\n",
       "1621          Burma   124630.0   2682.0   107069.0   14879.0 2020-12-31\n",
       "1629    Timor-Leste       44.0      0.0       32.0      12.0 2020-12-31\n",
       "1620         Brunei      157.0      3.0      149.0       5.0 2020-12-31\n",
       "\n",
       "[3504 rows x 6 columns]"
      ]
     },
     "execution_count": 14,
     "metadata": {},
     "output_type": "execute_result"
    }
   ],
   "source": [
    "SEACovidData"
   ]
  },
  {
   "cell_type": "code",
   "execution_count": 15,
   "metadata": {},
   "outputs": [
    {
     "data": {
      "text/plain": [
       "country_region      0\n",
       "confirmed           2\n",
       "deaths             44\n",
       "recovered          38\n",
       "active            376\n",
       "date                0\n",
       "dtype: int64"
      ]
     },
     "execution_count": 15,
     "metadata": {},
     "output_type": "execute_result"
    }
   ],
   "source": [
    "# Check null data\n",
    "SEACovidData.isnull().sum()"
   ]
  },
  {
   "cell_type": "code",
   "execution_count": 16,
   "metadata": {},
   "outputs": [
    {
     "name": "stderr",
     "output_type": "stream",
     "text": [
      "C:\\Users\\PLN\\AppData\\Local\\Temp\\ipykernel_10220\\3833011399.py:2: SettingWithCopyWarning: \n",
      "A value is trying to be set on a copy of a slice from a DataFrame\n",
      "\n",
      "See the caveats in the documentation: https://pandas.pydata.org/pandas-docs/stable/user_guide/indexing.html#returning-a-view-versus-a-copy\n",
      "  SEACovidData.fillna(0, inplace=True)\n"
     ]
    }
   ],
   "source": [
    "# Fill null column with 0 numbers\n",
    "SEACovidData.fillna(0, inplace=True)"
   ]
  },
  {
   "cell_type": "code",
   "execution_count": 17,
   "metadata": {},
   "outputs": [
    {
     "data": {
      "text/plain": [
       "country_region    0\n",
       "confirmed         0\n",
       "deaths            0\n",
       "recovered         0\n",
       "active            0\n",
       "date              0\n",
       "dtype: int64"
      ]
     },
     "execution_count": 17,
     "metadata": {},
     "output_type": "execute_result"
    }
   ],
   "source": [
    "# Check null data\n",
    "SEACovidData.isnull().sum()"
   ]
  },
  {
   "attachments": {},
   "cell_type": "markdown",
   "metadata": {},
   "source": [
    "Grouping data by creating a new dataframe named 'SEACovidData'"
   ]
  },
  {
   "cell_type": "code",
   "execution_count": 18,
   "metadata": {},
   "outputs": [
    {
     "name": "stderr",
     "output_type": "stream",
     "text": [
      "C:\\Users\\PLN\\AppData\\Local\\Temp\\ipykernel_10220\\2866177952.py:2: SettingWithCopyWarning: \n",
      "A value is trying to be set on a copy of a slice from a DataFrame\n",
      "\n",
      "See the caveats in the documentation: https://pandas.pydata.org/pandas-docs/stable/user_guide/indexing.html#returning-a-view-versus-a-copy\n",
      "  SEACovidData.rename(columns={'country_region':'Country name'}, inplace=True)\n"
     ]
    },
    {
     "data": {
      "text/html": [
       "<div>\n",
       "<style scoped>\n",
       "    .dataframe tbody tr th:only-of-type {\n",
       "        vertical-align: middle;\n",
       "    }\n",
       "\n",
       "    .dataframe tbody tr th {\n",
       "        vertical-align: top;\n",
       "    }\n",
       "\n",
       "    .dataframe thead th {\n",
       "        text-align: right;\n",
       "    }\n",
       "</style>\n",
       "<table border=\"1\" class=\"dataframe\">\n",
       "  <thead>\n",
       "    <tr style=\"text-align: right;\">\n",
       "      <th></th>\n",
       "      <th>Country name</th>\n",
       "      <th>confirmed</th>\n",
       "      <th>deaths</th>\n",
       "      <th>recovered</th>\n",
       "      <th>active</th>\n",
       "      <th>date</th>\n",
       "    </tr>\n",
       "  </thead>\n",
       "  <tbody>\n",
       "    <tr>\n",
       "      <th>704</th>\n",
       "      <td>Thailand</td>\n",
       "      <td>2.0</td>\n",
       "      <td>0.0</td>\n",
       "      <td>0.0</td>\n",
       "      <td>0.0</td>\n",
       "      <td>2020-01-22</td>\n",
       "    </tr>\n",
       "    <tr>\n",
       "      <th>3457</th>\n",
       "      <td>Malaysia</td>\n",
       "      <td>0.0</td>\n",
       "      <td>0.0</td>\n",
       "      <td>0.0</td>\n",
       "      <td>0.0</td>\n",
       "      <td>2020-01-23</td>\n",
       "    </tr>\n",
       "    <tr>\n",
       "      <th>3456</th>\n",
       "      <td>Philippines</td>\n",
       "      <td>0.0</td>\n",
       "      <td>0.0</td>\n",
       "      <td>0.0</td>\n",
       "      <td>0.0</td>\n",
       "      <td>2020-01-23</td>\n",
       "    </tr>\n",
       "    <tr>\n",
       "      <th>3455</th>\n",
       "      <td>Singapore</td>\n",
       "      <td>1.0</td>\n",
       "      <td>0.0</td>\n",
       "      <td>0.0</td>\n",
       "      <td>0.0</td>\n",
       "      <td>2020-01-23</td>\n",
       "    </tr>\n",
       "    <tr>\n",
       "      <th>3454</th>\n",
       "      <td>Thailand</td>\n",
       "      <td>3.0</td>\n",
       "      <td>0.0</td>\n",
       "      <td>0.0</td>\n",
       "      <td>0.0</td>\n",
       "      <td>2020-01-23</td>\n",
       "    </tr>\n",
       "    <tr>\n",
       "      <th>...</th>\n",
       "      <td>...</td>\n",
       "      <td>...</td>\n",
       "      <td>...</td>\n",
       "      <td>...</td>\n",
       "      <td>...</td>\n",
       "      <td>...</td>\n",
       "    </tr>\n",
       "    <tr>\n",
       "      <th>1623</th>\n",
       "      <td>Indonesia</td>\n",
       "      <td>743198.0</td>\n",
       "      <td>22138.0</td>\n",
       "      <td>611097.0</td>\n",
       "      <td>109963.0</td>\n",
       "      <td>2020-12-31</td>\n",
       "    </tr>\n",
       "    <tr>\n",
       "      <th>1622</th>\n",
       "      <td>Cambodia</td>\n",
       "      <td>378.0</td>\n",
       "      <td>0.0</td>\n",
       "      <td>362.0</td>\n",
       "      <td>16.0</td>\n",
       "      <td>2020-12-31</td>\n",
       "    </tr>\n",
       "    <tr>\n",
       "      <th>1621</th>\n",
       "      <td>Burma</td>\n",
       "      <td>124630.0</td>\n",
       "      <td>2682.0</td>\n",
       "      <td>107069.0</td>\n",
       "      <td>14879.0</td>\n",
       "      <td>2020-12-31</td>\n",
       "    </tr>\n",
       "    <tr>\n",
       "      <th>1629</th>\n",
       "      <td>Timor-Leste</td>\n",
       "      <td>44.0</td>\n",
       "      <td>0.0</td>\n",
       "      <td>32.0</td>\n",
       "      <td>12.0</td>\n",
       "      <td>2020-12-31</td>\n",
       "    </tr>\n",
       "    <tr>\n",
       "      <th>1620</th>\n",
       "      <td>Brunei</td>\n",
       "      <td>157.0</td>\n",
       "      <td>3.0</td>\n",
       "      <td>149.0</td>\n",
       "      <td>5.0</td>\n",
       "      <td>2020-12-31</td>\n",
       "    </tr>\n",
       "  </tbody>\n",
       "</table>\n",
       "<p>3504 rows × 6 columns</p>\n",
       "</div>"
      ],
      "text/plain": [
       "     Country name  confirmed   deaths  recovered    active       date\n",
       "704      Thailand        2.0      0.0        0.0       0.0 2020-01-22\n",
       "3457     Malaysia        0.0      0.0        0.0       0.0 2020-01-23\n",
       "3456  Philippines        0.0      0.0        0.0       0.0 2020-01-23\n",
       "3455    Singapore        1.0      0.0        0.0       0.0 2020-01-23\n",
       "3454     Thailand        3.0      0.0        0.0       0.0 2020-01-23\n",
       "...           ...        ...      ...        ...       ...        ...\n",
       "1623    Indonesia   743198.0  22138.0   611097.0  109963.0 2020-12-31\n",
       "1622     Cambodia      378.0      0.0      362.0      16.0 2020-12-31\n",
       "1621        Burma   124630.0   2682.0   107069.0   14879.0 2020-12-31\n",
       "1629  Timor-Leste       44.0      0.0       32.0      12.0 2020-12-31\n",
       "1620       Brunei      157.0      3.0      149.0       5.0 2020-12-31\n",
       "\n",
       "[3504 rows x 6 columns]"
      ]
     },
     "execution_count": 18,
     "metadata": {},
     "output_type": "execute_result"
    }
   ],
   "source": [
    "# Chane columns name from country region to Country name\n",
    "SEACovidData.rename(columns={'country_region':'Country name'}, inplace=True)\n",
    "SEACovidData"
   ]
  },
  {
   "attachments": {},
   "cell_type": "markdown",
   "metadata": {},
   "source": [
    "Grouping covid data from certain countries, in this case we choose Indonesia to carry out our analysis of the covid cases that have occurred in Indonesia"
   ]
  },
  {
   "cell_type": "code",
   "execution_count": 19,
   "metadata": {},
   "outputs": [],
   "source": [
    "# Showing covid patients in Indonesia\n",
    "covidIndonesia = SEACovidData[SEACovidData[\"Country name\"] == \"Indonesia\"]"
   ]
  },
  {
   "cell_type": "code",
   "execution_count": 20,
   "metadata": {},
   "outputs": [
    {
     "data": {
      "text/html": [
       "<div>\n",
       "<style scoped>\n",
       "    .dataframe tbody tr th:only-of-type {\n",
       "        vertical-align: middle;\n",
       "    }\n",
       "\n",
       "    .dataframe tbody tr th {\n",
       "        vertical-align: top;\n",
       "    }\n",
       "\n",
       "    .dataframe thead th {\n",
       "        text-align: right;\n",
       "    }\n",
       "</style>\n",
       "<table border=\"1\" class=\"dataframe\">\n",
       "  <thead>\n",
       "    <tr style=\"text-align: right;\">\n",
       "      <th></th>\n",
       "      <th>Country name</th>\n",
       "      <th>confirmed</th>\n",
       "      <th>deaths</th>\n",
       "      <th>recovered</th>\n",
       "      <th>active</th>\n",
       "      <th>date</th>\n",
       "    </tr>\n",
       "  </thead>\n",
       "  <tbody>\n",
       "    <tr>\n",
       "      <th>339</th>\n",
       "      <td>Indonesia</td>\n",
       "      <td>2.0</td>\n",
       "      <td>0.0</td>\n",
       "      <td>0.0</td>\n",
       "      <td>0.0</td>\n",
       "      <td>2020-03-02</td>\n",
       "    </tr>\n",
       "    <tr>\n",
       "      <th>1338</th>\n",
       "      <td>Indonesia</td>\n",
       "      <td>2.0</td>\n",
       "      <td>0.0</td>\n",
       "      <td>0.0</td>\n",
       "      <td>0.0</td>\n",
       "      <td>2020-03-03</td>\n",
       "    </tr>\n",
       "    <tr>\n",
       "      <th>1747</th>\n",
       "      <td>Indonesia</td>\n",
       "      <td>2.0</td>\n",
       "      <td>0.0</td>\n",
       "      <td>0.0</td>\n",
       "      <td>0.0</td>\n",
       "      <td>2020-03-04</td>\n",
       "    </tr>\n",
       "    <tr>\n",
       "      <th>3441</th>\n",
       "      <td>Indonesia</td>\n",
       "      <td>2.0</td>\n",
       "      <td>0.0</td>\n",
       "      <td>0.0</td>\n",
       "      <td>0.0</td>\n",
       "      <td>2020-03-05</td>\n",
       "    </tr>\n",
       "    <tr>\n",
       "      <th>1949</th>\n",
       "      <td>Indonesia</td>\n",
       "      <td>4.0</td>\n",
       "      <td>0.0</td>\n",
       "      <td>0.0</td>\n",
       "      <td>0.0</td>\n",
       "      <td>2020-03-06</td>\n",
       "    </tr>\n",
       "    <tr>\n",
       "      <th>...</th>\n",
       "      <td>...</td>\n",
       "      <td>...</td>\n",
       "      <td>...</td>\n",
       "      <td>...</td>\n",
       "      <td>...</td>\n",
       "      <td>...</td>\n",
       "    </tr>\n",
       "    <tr>\n",
       "      <th>361</th>\n",
       "      <td>Indonesia</td>\n",
       "      <td>713365.0</td>\n",
       "      <td>21237.0</td>\n",
       "      <td>583676.0</td>\n",
       "      <td>108452.0</td>\n",
       "      <td>2020-12-27</td>\n",
       "    </tr>\n",
       "    <tr>\n",
       "      <th>1551</th>\n",
       "      <td>Indonesia</td>\n",
       "      <td>719219.0</td>\n",
       "      <td>21452.0</td>\n",
       "      <td>589978.0</td>\n",
       "      <td>107789.0</td>\n",
       "      <td>2020-12-28</td>\n",
       "    </tr>\n",
       "    <tr>\n",
       "      <th>2815</th>\n",
       "      <td>Indonesia</td>\n",
       "      <td>727122.0</td>\n",
       "      <td>21703.0</td>\n",
       "      <td>596783.0</td>\n",
       "      <td>108636.0</td>\n",
       "      <td>2020-12-29</td>\n",
       "    </tr>\n",
       "    <tr>\n",
       "      <th>344</th>\n",
       "      <td>Indonesia</td>\n",
       "      <td>735124.0</td>\n",
       "      <td>21944.0</td>\n",
       "      <td>603741.0</td>\n",
       "      <td>109439.0</td>\n",
       "      <td>2020-12-30</td>\n",
       "    </tr>\n",
       "    <tr>\n",
       "      <th>1623</th>\n",
       "      <td>Indonesia</td>\n",
       "      <td>743198.0</td>\n",
       "      <td>22138.0</td>\n",
       "      <td>611097.0</td>\n",
       "      <td>109963.0</td>\n",
       "      <td>2020-12-31</td>\n",
       "    </tr>\n",
       "  </tbody>\n",
       "</table>\n",
       "<p>305 rows × 6 columns</p>\n",
       "</div>"
      ],
      "text/plain": [
       "     Country name  confirmed   deaths  recovered    active       date\n",
       "339     Indonesia        2.0      0.0        0.0       0.0 2020-03-02\n",
       "1338    Indonesia        2.0      0.0        0.0       0.0 2020-03-03\n",
       "1747    Indonesia        2.0      0.0        0.0       0.0 2020-03-04\n",
       "3441    Indonesia        2.0      0.0        0.0       0.0 2020-03-05\n",
       "1949    Indonesia        4.0      0.0        0.0       0.0 2020-03-06\n",
       "...           ...        ...      ...        ...       ...        ...\n",
       "361     Indonesia   713365.0  21237.0   583676.0  108452.0 2020-12-27\n",
       "1551    Indonesia   719219.0  21452.0   589978.0  107789.0 2020-12-28\n",
       "2815    Indonesia   727122.0  21703.0   596783.0  108636.0 2020-12-29\n",
       "344     Indonesia   735124.0  21944.0   603741.0  109439.0 2020-12-30\n",
       "1623    Indonesia   743198.0  22138.0   611097.0  109963.0 2020-12-31\n",
       "\n",
       "[305 rows x 6 columns]"
      ]
     },
     "execution_count": 20,
     "metadata": {},
     "output_type": "execute_result"
    }
   ],
   "source": [
    "covidIndonesia"
   ]
  },
  {
   "attachments": {},
   "cell_type": "markdown",
   "metadata": {},
   "source": [
    "Displays the number of deaths during 2020 in the country of Indonesia, because death data is cumulative, look for data in the last order in the dataframe"
   ]
  },
  {
   "cell_type": "code",
   "execution_count": 21,
   "metadata": {},
   "outputs": [
    {
     "data": {
      "text/plain": [
       "22138.0"
      ]
     },
     "execution_count": 21,
     "metadata": {},
     "output_type": "execute_result"
    }
   ],
   "source": [
    "covidIndonesia.iloc[-1].deaths"
   ]
  },
  {
   "attachments": {},
   "cell_type": "markdown",
   "metadata": {},
   "source": [
    "Displays data on covid cases that occurred at the end of 2020 in the country of Indonesia to find out how far the impact of covid was on the country of Indonesia"
   ]
  },
  {
   "cell_type": "code",
   "execution_count": 22,
   "metadata": {},
   "outputs": [
    {
     "data": {
      "text/html": [
       "<div>\n",
       "<style scoped>\n",
       "    .dataframe tbody tr th:only-of-type {\n",
       "        vertical-align: middle;\n",
       "    }\n",
       "\n",
       "    .dataframe tbody tr th {\n",
       "        vertical-align: top;\n",
       "    }\n",
       "\n",
       "    .dataframe thead th {\n",
       "        text-align: right;\n",
       "    }\n",
       "</style>\n",
       "<table border=\"1\" class=\"dataframe\">\n",
       "  <thead>\n",
       "    <tr style=\"text-align: right;\">\n",
       "      <th></th>\n",
       "      <th>Country name</th>\n",
       "      <th>confirmed</th>\n",
       "      <th>deaths</th>\n",
       "      <th>recovered</th>\n",
       "      <th>active</th>\n",
       "      <th>date</th>\n",
       "    </tr>\n",
       "  </thead>\n",
       "  <tbody>\n",
       "    <tr>\n",
       "      <th>1623</th>\n",
       "      <td>Indonesia</td>\n",
       "      <td>743198.0</td>\n",
       "      <td>22138.0</td>\n",
       "      <td>611097.0</td>\n",
       "      <td>109963.0</td>\n",
       "      <td>2020-12-31</td>\n",
       "    </tr>\n",
       "  </tbody>\n",
       "</table>\n",
       "</div>"
      ],
      "text/plain": [
       "     Country name  confirmed   deaths  recovered    active       date\n",
       "1623    Indonesia   743198.0  22138.0   611097.0  109963.0 2020-12-31"
      ]
     },
     "execution_count": 22,
     "metadata": {},
     "output_type": "execute_result"
    }
   ],
   "source": [
    "covidIndonesia.tail(1)"
   ]
  },
  {
   "attachments": {},
   "cell_type": "markdown",
   "metadata": {},
   "source": [
    "Displays data on covid cases in Laos that occurred in 2020"
   ]
  },
  {
   "cell_type": "code",
   "execution_count": 23,
   "metadata": {},
   "outputs": [],
   "source": [
    "# Looking for data on covid cases in 2020 that occurred in Laos\n",
    "covidLaos = SEACovidData[SEACovidData[\"Country name\"] == \"Laos\"]"
   ]
  },
  {
   "cell_type": "code",
   "execution_count": 24,
   "metadata": {},
   "outputs": [
    {
     "data": {
      "text/html": [
       "<div>\n",
       "<style scoped>\n",
       "    .dataframe tbody tr th:only-of-type {\n",
       "        vertical-align: middle;\n",
       "    }\n",
       "\n",
       "    .dataframe tbody tr th {\n",
       "        vertical-align: top;\n",
       "    }\n",
       "\n",
       "    .dataframe thead th {\n",
       "        text-align: right;\n",
       "    }\n",
       "</style>\n",
       "<table border=\"1\" class=\"dataframe\">\n",
       "  <thead>\n",
       "    <tr style=\"text-align: right;\">\n",
       "      <th></th>\n",
       "      <th>Country name</th>\n",
       "      <th>confirmed</th>\n",
       "      <th>deaths</th>\n",
       "      <th>recovered</th>\n",
       "      <th>active</th>\n",
       "      <th>date</th>\n",
       "    </tr>\n",
       "  </thead>\n",
       "  <tbody>\n",
       "    <tr>\n",
       "      <th>2141</th>\n",
       "      <td>Laos</td>\n",
       "      <td>2.0</td>\n",
       "      <td>0.0</td>\n",
       "      <td>0.0</td>\n",
       "      <td>2.0</td>\n",
       "      <td>2020-03-24</td>\n",
       "    </tr>\n",
       "    <tr>\n",
       "      <th>637</th>\n",
       "      <td>Laos</td>\n",
       "      <td>3.0</td>\n",
       "      <td>0.0</td>\n",
       "      <td>0.0</td>\n",
       "      <td>3.0</td>\n",
       "      <td>2020-03-25</td>\n",
       "    </tr>\n",
       "    <tr>\n",
       "      <th>2097</th>\n",
       "      <td>Laos</td>\n",
       "      <td>6.0</td>\n",
       "      <td>0.0</td>\n",
       "      <td>0.0</td>\n",
       "      <td>6.0</td>\n",
       "      <td>2020-03-26</td>\n",
       "    </tr>\n",
       "    <tr>\n",
       "      <th>225</th>\n",
       "      <td>Laos</td>\n",
       "      <td>6.0</td>\n",
       "      <td>0.0</td>\n",
       "      <td>0.0</td>\n",
       "      <td>6.0</td>\n",
       "      <td>2020-03-27</td>\n",
       "    </tr>\n",
       "    <tr>\n",
       "      <th>985</th>\n",
       "      <td>Laos</td>\n",
       "      <td>8.0</td>\n",
       "      <td>0.0</td>\n",
       "      <td>0.0</td>\n",
       "      <td>8.0</td>\n",
       "      <td>2020-03-28</td>\n",
       "    </tr>\n",
       "    <tr>\n",
       "      <th>...</th>\n",
       "      <td>...</td>\n",
       "      <td>...</td>\n",
       "      <td>...</td>\n",
       "      <td>...</td>\n",
       "      <td>...</td>\n",
       "      <td>...</td>\n",
       "    </tr>\n",
       "    <tr>\n",
       "      <th>362</th>\n",
       "      <td>Laos</td>\n",
       "      <td>41.0</td>\n",
       "      <td>0.0</td>\n",
       "      <td>37.0</td>\n",
       "      <td>4.0</td>\n",
       "      <td>2020-12-27</td>\n",
       "    </tr>\n",
       "    <tr>\n",
       "      <th>1552</th>\n",
       "      <td>Laos</td>\n",
       "      <td>41.0</td>\n",
       "      <td>0.0</td>\n",
       "      <td>40.0</td>\n",
       "      <td>1.0</td>\n",
       "      <td>2020-12-28</td>\n",
       "    </tr>\n",
       "    <tr>\n",
       "      <th>2816</th>\n",
       "      <td>Laos</td>\n",
       "      <td>41.0</td>\n",
       "      <td>0.0</td>\n",
       "      <td>40.0</td>\n",
       "      <td>1.0</td>\n",
       "      <td>2020-12-29</td>\n",
       "    </tr>\n",
       "    <tr>\n",
       "      <th>345</th>\n",
       "      <td>Laos</td>\n",
       "      <td>41.0</td>\n",
       "      <td>0.0</td>\n",
       "      <td>40.0</td>\n",
       "      <td>1.0</td>\n",
       "      <td>2020-12-30</td>\n",
       "    </tr>\n",
       "    <tr>\n",
       "      <th>1624</th>\n",
       "      <td>Laos</td>\n",
       "      <td>41.0</td>\n",
       "      <td>0.0</td>\n",
       "      <td>40.0</td>\n",
       "      <td>1.0</td>\n",
       "      <td>2020-12-31</td>\n",
       "    </tr>\n",
       "  </tbody>\n",
       "</table>\n",
       "<p>283 rows × 6 columns</p>\n",
       "</div>"
      ],
      "text/plain": [
       "     Country name  confirmed  deaths  recovered  active       date\n",
       "2141         Laos        2.0     0.0        0.0     2.0 2020-03-24\n",
       "637          Laos        3.0     0.0        0.0     3.0 2020-03-25\n",
       "2097         Laos        6.0     0.0        0.0     6.0 2020-03-26\n",
       "225          Laos        6.0     0.0        0.0     6.0 2020-03-27\n",
       "985          Laos        8.0     0.0        0.0     8.0 2020-03-28\n",
       "...           ...        ...     ...        ...     ...        ...\n",
       "362          Laos       41.0     0.0       37.0     4.0 2020-12-27\n",
       "1552         Laos       41.0     0.0       40.0     1.0 2020-12-28\n",
       "2816         Laos       41.0     0.0       40.0     1.0 2020-12-29\n",
       "345          Laos       41.0     0.0       40.0     1.0 2020-12-30\n",
       "1624         Laos       41.0     0.0       40.0     1.0 2020-12-31\n",
       "\n",
       "[283 rows x 6 columns]"
      ]
     },
     "execution_count": 24,
     "metadata": {},
     "output_type": "execute_result"
    }
   ],
   "source": [
    "covidLaos"
   ]
  },
  {
   "cell_type": "code",
   "execution_count": 25,
   "metadata": {},
   "outputs": [
    {
     "data": {
      "text/plain": [
       "283"
      ]
     },
     "execution_count": 25,
     "metadata": {},
     "output_type": "execute_result"
    }
   ],
   "source": [
    "# Find out the number of covid cases that occurred in the country of Laos during 2020\n",
    "len(covidLaos)"
   ]
  },
  {
   "attachments": {},
   "cell_type": "markdown",
   "metadata": {},
   "source": [
    "Displays the 5 countries in Southeast Asia that experienced the highest number of deaths caused by covid in 2020 based on country names and data on deaths that occurred."
   ]
  },
  {
   "cell_type": "code",
   "execution_count": 26,
   "metadata": {},
   "outputs": [
    {
     "data": {
      "text/plain": [
       "Country name\n",
       "Indonesia      22138.0\n",
       "Philippines     9244.0\n",
       "Burma           2682.0\n",
       "Malaysia         471.0\n",
       "Thailand          63.0\n",
       "Name: deaths, dtype: float64"
      ]
     },
     "execution_count": 26,
     "metadata": {},
     "output_type": "execute_result"
    }
   ],
   "source": [
    "SEACovidData.groupby(\"Country name\")[\"deaths\"].max().sort_values(ascending=False).head()"
   ]
  },
  {
   "attachments": {},
   "cell_type": "markdown",
   "metadata": {},
   "source": [
    "Displays covid confirmation numbers and covid recovery rates in 2020 in each Southeast Asian country and gets a comparison of data for each country which is useful for learning from covid cases that have occurred in each country.\n",
    "\n",
    "Data grouping is done by country name, confirmation of Covid cases that have occurred and recovery from Covid in each country by taking the largest value from each indicator of Covid cases."
   ]
  },
  {
   "cell_type": "code",
   "execution_count": 27,
   "metadata": {},
   "outputs": [
    {
     "data": {
      "text/html": [
       "<div>\n",
       "<style scoped>\n",
       "    .dataframe tbody tr th:only-of-type {\n",
       "        vertical-align: middle;\n",
       "    }\n",
       "\n",
       "    .dataframe tbody tr th {\n",
       "        vertical-align: top;\n",
       "    }\n",
       "\n",
       "    .dataframe thead th {\n",
       "        text-align: right;\n",
       "    }\n",
       "</style>\n",
       "<table border=\"1\" class=\"dataframe\">\n",
       "  <thead>\n",
       "    <tr style=\"text-align: right;\">\n",
       "      <th></th>\n",
       "      <th>confirmed</th>\n",
       "      <th>recovered</th>\n",
       "    </tr>\n",
       "    <tr>\n",
       "      <th>Country name</th>\n",
       "      <th></th>\n",
       "      <th></th>\n",
       "    </tr>\n",
       "  </thead>\n",
       "  <tbody>\n",
       "    <tr>\n",
       "      <th>Brunei</th>\n",
       "      <td>157.0</td>\n",
       "      <td>149.0</td>\n",
       "    </tr>\n",
       "    <tr>\n",
       "      <th>Burma</th>\n",
       "      <td>124630.0</td>\n",
       "      <td>107069.0</td>\n",
       "    </tr>\n",
       "    <tr>\n",
       "      <th>Cambodia</th>\n",
       "      <td>378.0</td>\n",
       "      <td>362.0</td>\n",
       "    </tr>\n",
       "    <tr>\n",
       "      <th>Indonesia</th>\n",
       "      <td>743198.0</td>\n",
       "      <td>611097.0</td>\n",
       "    </tr>\n",
       "    <tr>\n",
       "      <th>Laos</th>\n",
       "      <td>41.0</td>\n",
       "      <td>40.0</td>\n",
       "    </tr>\n",
       "    <tr>\n",
       "      <th>Malaysia</th>\n",
       "      <td>113010.0</td>\n",
       "      <td>88941.0</td>\n",
       "    </tr>\n",
       "    <tr>\n",
       "      <th>Philippines</th>\n",
       "      <td>474064.0</td>\n",
       "      <td>439796.0</td>\n",
       "    </tr>\n",
       "    <tr>\n",
       "      <th>Singapore</th>\n",
       "      <td>58599.0</td>\n",
       "      <td>58449.0</td>\n",
       "    </tr>\n",
       "    <tr>\n",
       "      <th>Thailand</th>\n",
       "      <td>7163.0</td>\n",
       "      <td>4273.0</td>\n",
       "    </tr>\n",
       "    <tr>\n",
       "      <th>Timor-Leste</th>\n",
       "      <td>44.0</td>\n",
       "      <td>35.0</td>\n",
       "    </tr>\n",
       "    <tr>\n",
       "      <th>Vietnam</th>\n",
       "      <td>1465.0</td>\n",
       "      <td>1325.0</td>\n",
       "    </tr>\n",
       "  </tbody>\n",
       "</table>\n",
       "</div>"
      ],
      "text/plain": [
       "              confirmed  recovered\n",
       "Country name                      \n",
       "Brunei            157.0      149.0\n",
       "Burma          124630.0   107069.0\n",
       "Cambodia          378.0      362.0\n",
       "Indonesia      743198.0   611097.0\n",
       "Laos               41.0       40.0\n",
       "Malaysia       113010.0    88941.0\n",
       "Philippines    474064.0   439796.0\n",
       "Singapore       58599.0    58449.0\n",
       "Thailand         7163.0     4273.0\n",
       "Timor-Leste        44.0       35.0\n",
       "Vietnam          1465.0     1325.0"
      ]
     },
     "execution_count": 27,
     "metadata": {},
     "output_type": "execute_result"
    }
   ],
   "source": [
    "SEACovidData.groupby([\"Country name\"])[[\"confirmed\",\"recovered\"]].max()"
   ]
  },
  {
   "attachments": {},
   "cell_type": "markdown",
   "metadata": {},
   "source": [
    "Find the average value of active covid cases that occurred during 2020 in Southeast Asian countries.\n",
    "The data obtained is sorted based on the incidence of active Covid cases each month and was found starting from March to December 2020."
   ]
  },
  {
   "cell_type": "code",
   "execution_count": 28,
   "metadata": {},
   "outputs": [
    {
     "data": {
      "text/plain": [
       "date\n",
       "3      6.250000\n",
       "4     14.466667\n",
       "5      6.096774\n",
       "6      0.400000\n",
       "7      0.258065\n",
       "8      1.580645\n",
       "9      1.100000\n",
       "10     1.354839\n",
       "11     4.900000\n",
       "12     7.161290\n",
       "Name: active, dtype: float64"
      ]
     },
     "execution_count": 28,
     "metadata": {},
     "output_type": "execute_result"
    }
   ],
   "source": [
    "covidLaos.groupby(SEACovidData.date.dt.month)[\"active\"].mean()"
   ]
  },
  {
   "attachments": {},
   "cell_type": "markdown",
   "metadata": {},
   "source": [
    "Displays a visualization of comparative data for 5 countries that have experienced the most deaths from Covid throughout 2020."
   ]
  },
  {
   "cell_type": "code",
   "execution_count": 29,
   "metadata": {},
   "outputs": [
    {
     "data": {
      "text/plain": [
       "[Text(0, 0, '22138'),\n",
       " Text(0, 0, '9244'),\n",
       " Text(0, 0, '2682'),\n",
       " Text(0, 0, '471'),\n",
       " Text(0, 0, '63')]"
      ]
     },
     "execution_count": 29,
     "metadata": {},
     "output_type": "execute_result"
    },
    {
     "data": {
      "image/png": "[encoded data removed]",
      "text/plain": [
       "<Figure size 640x480 with 1 Axes>"
      ]
     },
     "metadata": {},
     "output_type": "display_data"
    }
   ],
   "source": [
    "# Displays a comparison graph of the most deaths ever in the top 5 countries in Southeast Asia\n",
    "ax = SEACovidData.groupby(\"Country name\")[\"deaths\"].max().sort_values(ascending=False).head().plot(kind='bar')\n",
    "ax.bar_label(ax.containers[0], fmt='%.0f')"
   ]
  },
  {
   "attachments": {},
   "cell_type": "markdown",
   "metadata": {},
   "source": [
    "Based on the comparison results, Indonesia was found to be the country that experienced the most cases of death due to Covid during 2020 in a Southeast Asian country with a total of 22138 deaths."
   ]
  },
  {
   "attachments": {},
   "cell_type": "markdown",
   "metadata": {},
   "source": [
    "Displays a visualization of the trend of increasing covid cases in the country of Indonesia in line with 2020 every month."
   ]
  },
  {
   "cell_type": "code",
   "execution_count": 46,
   "metadata": {},
   "outputs": [
    {
     "data": {
      "text/plain": [
       "Text(0.5, 0, 'Month')"
      ]
     },
     "execution_count": 46,
     "metadata": {},
     "output_type": "execute_result"
    },
    {
     "data": {
      "image/png": "[encoded data removed]",
      "text/plain": [
       "<Figure size 640x480 with 1 Axes>"
      ]
     },
     "metadata": {},
     "output_type": "display_data"
    }
   ],
   "source": [
    "# Display exponential number of deaths every month in Indonesia\n",
    "cvd = covidIndonesia.groupby(covidIndonesia.date.dt.month)['deaths'].sum()\n",
    "# ax.bar_label(ax.containers[0], fmt='%.0f')\n",
    "cvd.plot(\n",
    "    kind=\"bar\",\n",
    "    title=\"Indonesia increasing covid Trend\"\n",
    ")\n",
    "plt.xlabel(\"Month\", fontsize=20)"
   ]
  },
  {
   "cell_type": "code",
   "execution_count": 47,
   "metadata": {},
   "outputs": [
    {
     "data": {
      "text/plain": [
       "date\n",
       "Mar       989.0\n",
       "Apr     14067.0\n",
       "May     35759.0\n",
       "Jun     66560.0\n",
       "Jul    122962.0\n",
       "Ags    192605.0\n",
       "Sep    272524.0\n",
       "Oct    383309.0\n",
       "Nov    459696.0\n",
       "Dec    600212.0\n",
       "Name: deaths, dtype: float64"
      ]
     },
     "execution_count": 47,
     "metadata": {},
     "output_type": "execute_result"
    }
   ],
   "source": [
    "monthDic = {3:\"Mar\",4:\"Apr\", 5:'May', 6:'Jun', 7:'Jul', 8:'Ags', 9:'Sep', 10:'Oct', 11:'Nov', 12:'Dec'}\n",
    "cvd.rename(monthDic)"
   ]
  },
  {
   "cell_type": "code",
   "execution_count": 49,
   "metadata": {},
   "outputs": [
    {
     "data": {
      "text/plain": [
       "<Axes: title={'center': 'Indonesia increasing covid Trend'}, xlabel='Month', ylabel='Num of case'>"
      ]
     },
     "execution_count": 49,
     "metadata": {},
     "output_type": "execute_result"
    },
    {
     "data": {
      "image/png": "[encoded data removed]",
      "text/plain": [
       "<Figure size 640x480 with 1 Axes>"
      ]
     },
     "metadata": {},
     "output_type": "display_data"
    }
   ],
   "source": [
    "cvd.rename(monthDic).plot(\n",
    "    kind=\"bar\",\n",
    "    title=\"Indonesia increasing covid Trend\",\n",
    "    xlabel='Month',\n",
    "    ylabel=\"Num of case\"\n",
    ")"
   ]
  },
  {
   "attachments": {},
   "cell_type": "markdown",
   "metadata": {},
   "source": [
    "The increase in the Covid case in Indonesia experienced its peak at the end of 2020 PAD in December."
   ]
  },
  {
   "attachments": {},
   "cell_type": "markdown",
   "metadata": {},
   "source": [
    "Displays visualization of the comparison of Covid confirmation and death from Covid during 2020 in Southeast Asian countries."
   ]
  },
  {
   "cell_type": "code",
   "execution_count": 50,
   "metadata": {},
   "outputs": [
    {
     "data": {
      "text/plain": [
       "<Axes: xlabel='Country name'>"
      ]
     },
     "execution_count": 50,
     "metadata": {},
     "output_type": "execute_result"
    },
    {
     "data": {
      "image/png": "[encoded data removed]",
      "text/plain": [
       "<Figure size 640x480 with 1 Axes>"
      ]
     },
     "metadata": {},
     "output_type": "display_data"
    }
   ],
   "source": [
    "SEACovidData.groupby([\"Country name\"])[[\"confirmed\",\"recovered\"]].max().plot(kind=\"bar\")"
   ]
  },
  {
   "attachments": {},
   "cell_type": "markdown",
   "metadata": {},
   "source": [
    "Based on the results of visualization, it was found that the Covid confirmation value was higher than the death value due to COVID.\n",
    "\n",
    "Countries that experience Covid confirmation and death from Covid are almost the same experienced by Singapore countries, this can be a review of events that exist in Covid in Singapore."
   ]
  },
  {
   "attachments": {},
   "cell_type": "markdown",
   "metadata": {},
   "source": [
    "## Conclusion, Assumptions, Overall Analysis\n",
    "\n",
    "Conclusion:\n",
    "- Every Southeast Asian country that experiences Covid-19 experiences a significant increase every year, for example Indonesia.The greater the country, the higher the covid rate.\n",
    "- Covid confirmation rates that are always increasing proportional to the increasing mortality rate and also a slight difference between COVID confirmation and death.\n",
    "- The available data can be used well to be useful as a review of COVID handling.\n",
    "\n",
    "Assumption:\n",
    "- Indonesia gets a high covid number due to a large area of country, while Timor-Leste gets a low Covid number due to a small country.\n",
    "- Singapore becomes a country that experiences covid which results in death which is proportional to the confirmation of patients with Covid, this is displayed from the visual results of the COVID comparison graph.\n",
    "\n",
    "Overall analysis\n",
    "\n",
    "Covid-19 in Southeast Asia has increased every month in 2020. Covid case confirmation rates and COVID mortality rates continue to increase.Each country has its own countermeasures, with the results of this analysis in order to help in adding learning data to the Covid-19 that occurred in Southeast Asia.\n",
    "Each country can learn from countries that experience more mortality rates compared to the Covid confirmation rate, or even a country that experiences a large covid healing rate compared to the mortality rate due to Covid."
   ]
  }
 ],
 "metadata": {
  "kernelspec": {
   "display_name": "Python 3",
   "language": "python",
   "name": "python3"
  },
  "language_info": {
   "codemirror_mode": {
    "name": "ipython",
    "version": 3
   },
   "file_extension": ".py",
   "mimetype": "text/x-python",
   "name": "python",
   "nbconvert_exporter": "python",
   "pygments_lexer": "ipython3",
   "version": "3.10.9"
  },
  "orig_nbformat": 4
 },
 "nbformat": 4,
 "nbformat_minor": 2
}
